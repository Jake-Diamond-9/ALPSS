{
 "cells": [
  {
   "cell_type": "code",
   "execution_count": null,
   "metadata": {},
   "outputs": [],
   "source": [
    "from alpss_main import *\n",
    "import os\n",
    "import matplotlib\n",
    "\n",
    "# matplotlib.use('agg')\n",
    "\n",
    "alpss_main(\n",
    "    filename=\"example_file.csv\",\n",
    "    save_data=\"yes\",\n",
    "    start_time_user=\"none\",\n",
    "    header_lines=1,\n",
    "    time_to_skip=2e-6,\n",
    "    time_to_take=2e-6,\n",
    "    t_before=10e-9,\n",
    "    t_after=100e-9,\n",
    "    start_time_correction=0e-9,\n",
    "    freq_min=1.5e9,\n",
    "    freq_max=4e9,\n",
    "    smoothing_window=401,\n",
    "    smoothing_wid=3,\n",
    "    smoothing_amp=1,\n",
    "    smoothing_sigma=1,\n",
    "    smoothing_mu=0,\n",
    "    pb_neighbors=400,\n",
    "    pb_idx_correction=0,\n",
    "    rc_neighbors=400,\n",
    "    rc_idx_correction=0,\n",
    "    sample_rate=80e9,\n",
    "    nperseg=512,\n",
    "    noverlap=435,\n",
    "    nfft=5120,\n",
    "    window=\"hann\",\n",
    "    blur_kernel=(5, 5),\n",
    "    blur_sigx=0,\n",
    "    blur_sigy=0,\n",
    "    carrier_band_time=250e-9,\n",
    "    cmap=\"viridis\",\n",
    "    uncert_mult=100,\n",
    "    order=6,\n",
    "    wid=5e7,\n",
    "    lam=1547.461e-9,\n",
    "    C0=4540,\n",
    "    density=1730,\n",
    "    delta_rho=9,\n",
    "    delta_C0=23,\n",
    "    delta_lam=8e-18,\n",
    "    theta=0,\n",
    "    delta_theta=5,\n",
    "    exp_data_dir=(os.getcwd() + \"/input_data\"),\n",
    "    out_files_dir=(os.getcwd() + \"/output_data\"),\n",
    "    display_plots=\"yes\",\n",
    "    spall_calculation=\"yes\",\n",
    "    plot_figsize=(30, 10),\n",
    "    plot_dpi=300,\n",
    ")\n"
   ]
  }
 ],
 "metadata": {
  "kernelspec": {
   "display_name": "Python 3 (ipykernel)",
   "language": "python",
   "name": "python3"
  },
  "language_info": {
   "codemirror_mode": {
    "name": "ipython",
    "version": 3
   },
   "file_extension": ".py",
   "mimetype": "text/x-python",
   "name": "python",
   "nbconvert_exporter": "python",
   "pygments_lexer": "ipython3",
   "version": "3.9.19"
  }
 },
 "nbformat": 4,
 "nbformat_minor": 4
}
